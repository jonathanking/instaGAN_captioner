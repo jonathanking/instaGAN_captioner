{
 "cells": [
  {
   "cell_type": "code",
   "execution_count": 1,
   "metadata": {
    "scrolled": true
   },
   "outputs": [
    {
     "ename": "FileNotFoundError",
     "evalue": "[Errno 2] No such file or directory: '/media/kyle/store/insta_data/hashtags/#buzzfeast/2019-02-26_23-00-09_UTC.jpg'",
     "output_type": "error",
     "traceback": [
      "\u001b[0;31m---------------------------------------------------------------------------\u001b[0m",
      "\u001b[0;31mFileNotFoundError\u001b[0m                         Traceback (most recent call last)",
      "\u001b[0;32m<ipython-input-1-26769b0ecbb8>\u001b[0m in \u001b[0;36m<module>\u001b[0;34m\u001b[0m\n\u001b[1;32m      6\u001b[0m \u001b[0;34m\u001b[0m\u001b[0m\n\u001b[1;32m      7\u001b[0m \u001b[0;32mfor\u001b[0m \u001b[0mi\u001b[0m \u001b[0;32min\u001b[0m \u001b[0mrange\u001b[0m\u001b[0;34m(\u001b[0m\u001b[0;36m1\u001b[0m\u001b[0;34m)\u001b[0m\u001b[0;34m:\u001b[0m\u001b[0;34m\u001b[0m\u001b[0;34m\u001b[0m\u001b[0m\n\u001b[0;32m----> 8\u001b[0;31m     \u001b[0mimg\u001b[0m \u001b[0;34m=\u001b[0m \u001b[0mImage\u001b[0m\u001b[0;34m.\u001b[0m\u001b[0mopen\u001b[0m\u001b[0;34m(\u001b[0m\u001b[0;34m'/media/kyle/store/insta_data/hashtags/#buzzfeast/2019-02-26_23-00-09_UTC.jpg'\u001b[0m\u001b[0;34m)\u001b[0m\u001b[0;34m\u001b[0m\u001b[0;34m\u001b[0m\u001b[0m\n\u001b[0m\u001b[1;32m      9\u001b[0m     \u001b[0mimg\u001b[0m \u001b[0;34m=\u001b[0m \u001b[0mimg\u001b[0m\u001b[0;34m.\u001b[0m\u001b[0mresize\u001b[0m\u001b[0;34m(\u001b[0m\u001b[0;34m(\u001b[0m\u001b[0;36m256\u001b[0m\u001b[0;34m,\u001b[0m\u001b[0;36m256\u001b[0m\u001b[0;34m)\u001b[0m\u001b[0;34m)\u001b[0m\u001b[0;34m\u001b[0m\u001b[0;34m\u001b[0m\u001b[0m\n\u001b[1;32m     10\u001b[0m \u001b[0;34m\u001b[0m\u001b[0m\n",
      "\u001b[0;32m~/build/anaconda3/envs/pytorch_src2/lib/python3.6/site-packages/PIL/Image.py\u001b[0m in \u001b[0;36mopen\u001b[0;34m(fp, mode)\u001b[0m\n\u001b[1;32m   2632\u001b[0m \u001b[0;34m\u001b[0m\u001b[0m\n\u001b[1;32m   2633\u001b[0m     \u001b[0;32mif\u001b[0m \u001b[0mfilename\u001b[0m\u001b[0;34m:\u001b[0m\u001b[0;34m\u001b[0m\u001b[0;34m\u001b[0m\u001b[0m\n\u001b[0;32m-> 2634\u001b[0;31m         \u001b[0mfp\u001b[0m \u001b[0;34m=\u001b[0m \u001b[0mbuiltins\u001b[0m\u001b[0;34m.\u001b[0m\u001b[0mopen\u001b[0m\u001b[0;34m(\u001b[0m\u001b[0mfilename\u001b[0m\u001b[0;34m,\u001b[0m \u001b[0;34m\"rb\"\u001b[0m\u001b[0;34m)\u001b[0m\u001b[0;34m\u001b[0m\u001b[0;34m\u001b[0m\u001b[0m\n\u001b[0m\u001b[1;32m   2635\u001b[0m         \u001b[0mexclusive_fp\u001b[0m \u001b[0;34m=\u001b[0m \u001b[0;32mTrue\u001b[0m\u001b[0;34m\u001b[0m\u001b[0;34m\u001b[0m\u001b[0m\n\u001b[1;32m   2636\u001b[0m \u001b[0;34m\u001b[0m\u001b[0m\n",
      "\u001b[0;31mFileNotFoundError\u001b[0m: [Errno 2] No such file or directory: '/media/kyle/store/insta_data/hashtags/#buzzfeast/2019-02-26_23-00-09_UTC.jpg'"
     ]
    }
   ],
   "source": [
    "from PIL import Image\n",
    "import time\n",
    "import numpy as np\n",
    "\n",
    "s = time.time()\n",
    "\n",
    "for i in range(1):\n",
    "    img = Image.open('/media/kyle/store/insta_data/hashtags/#buzzfeast/2019-02-26_23-00-09_UTC.jpg')\n",
    "    img = img.resize((256,256))\n",
    "\n",
    "e = time.time()\n",
    "print(np.asarray(img).transpose(2,0,1).shape)\n",
    "\n",
    "print(e-s)"
   ]
  },
  {
   "cell_type": "code",
   "execution_count": null,
   "metadata": {},
   "outputs": [
    {
     "name": "stdout",
     "output_type": "stream",
     "text": [
      "4779 JPGs, 4271 metas in lifeandthyme.\n",
      "lifeandthyme - finished processing - output shape - torch.Size([4778, 3, 256, 256])\n"
     ]
    }
   ],
   "source": [
    "import os,sys,cv2,gc,json,lzma,re\n",
    "import numpy as np\n",
    "import torch\n",
    "import pickle as pkl\n",
    "import torch\n",
    "from imageio import imread\n",
    "from PIL import Image\n",
    "import glob\n",
    "\n",
    "xdim = 256\n",
    "ydim = 256\n",
    "metadata = []\n",
    "\n",
    "dfolder = '/home/jok120/ml/proj/data/old_data/tags/tmp/'\n",
    "\n",
    "for folder in os.listdir(dfolder):\n",
    "    n = 0\n",
    "    n_int = 1\n",
    "\n",
    "    gc.collect()\n",
    "    \n",
    "    path_folder = os.path.join(dfolder,folder)\n",
    "\n",
    "    if not (os.path.isdir(path_folder)):# and folder.startswith('#')):\n",
    "        continue\n",
    "        \n",
    "    jpgCounter = len(glob.glob1(path_folder,\"*.jpg\"))\n",
    "    metadataCounter = len(glob.glob1(path_folder,\"*.json.xz\"))\n",
    "    print(jpgCounter, \"JPGs,\", metadataCounter, \"metas in {}.\".format(folder))\n",
    "    images = torch.empty(jpgCounter,3,xdim,ydim)\n",
    "    stored_indices = []\n",
    "\n",
    "    for f in os.listdir(path_folder):\n",
    "        fname, fext = os.path.splitext(f)\n",
    "\n",
    "        if fext != '.jpg':\n",
    "            continue\n",
    "\n",
    "        #img = imread(os.path.join(dfolder,folder,f)) / 255\n",
    "        #img = torch.from_numpy(cv2.resize(img, dsize=(ydim,xdim)).transpose(2,0,1)[None,:]).type(torch.FloatTensor)\n",
    "        img = Image.open(os.path.join(dfolder,folder,f))\n",
    "        img = img.resize((ydim,xdim))\n",
    "        img = np.asarray(img) / 255\n",
    "        img = torch.from_numpy(img.transpose(2,0,1)).type(torch.FloatTensor)\n",
    "\n",
    "        json_filename = os.path.join(dfolder,folder,re.sub('UTC_(\\\\d+)','UTC',fname)+'.json.xz')\n",
    "\n",
    "        try:\n",
    "            json_str = lzma.open(json_filename).read()\n",
    "        except:\n",
    "            continue\n",
    "        json_data = json.loads(json_str)\n",
    "        metadata.append(json_data)\n",
    "        \n",
    "        images[n] = img\n",
    "        stored_indices.append(n)\n",
    "        n += 1\n",
    "        \n",
    "\n",
    "        if n % 100 == 0:\n",
    "            print('{} - {} images processed'.format(folder,n),end='\\r')\n",
    "    images = images[stored_indices]\n",
    "    print('{} - finished processing - output shape - {}'.format(folder,images.shape))\n",
    "    assert images.shape[0] == len(metadata), \"non-matching number of images/metas\"\n",
    "    torch.save(images,os.path.join(dfolder,'{}.tch'.format(folder)))\n",
    "    pkl.dump(metadata,open(os.path.join(dfolder,'{}_metadata.pkl'.format(folder)),'wb'))\n",
    "    \n",
    "    images = torch.empty(0,3,xdim,ydim)\n",
    "    metadata = []"
   ]
  },
  {
   "cell_type": "code",
   "execution_count": 14,
   "metadata": {},
   "outputs": [],
   "source": [
    "m = pickle.load(open(os.path.join('/home/jok120/ml/proj/data/old_data/tags/tmp/abrowntable_metadata.pkl'),'rb'))\n",
    "d = torch.load('/home/jok120/ml/proj/data/old_data/tags/tmp/abrowntable.tch')"
   ]
  },
  {
   "cell_type": "code",
   "execution_count": 15,
   "metadata": {},
   "outputs": [
    {
     "data": {
      "text/plain": [
       "(1644, 1645)"
      ]
     },
     "execution_count": 15,
     "metadata": {},
     "output_type": "execute_result"
    }
   ],
   "source": [
    "len(m), len(d)"
   ]
  },
  {
   "cell_type": "code",
   "execution_count": 13,
   "metadata": {},
   "outputs": [
    {
     "name": "stdout",
     "output_type": "stream",
     "text": [
      "/home/jok120/ml/proj/data/old_data/tags/tmp/abrowntable_metadata.pkl\r\n",
      "/home/jok120/ml/proj/data/old_data/tags/tmp/alisoneroman_metadata.pkl\r\n",
      "/home/jok120/ml/proj/data/old_data/tags/tmp/alison_wu_metadata.pkl\r\n",
      "/home/jok120/ml/proj/data/old_data/tags/tmp/alphafoodie_metadata.pkl\r\n",
      "/home/jok120/ml/proj/data/old_data/tags/tmp/ameliafreer_metadata.pkl\r\n",
      "/home/jok120/ml/proj/data/old_data/tags/tmp/andreabemis_metadata.pkl\r\n",
      "/home/jok120/ml/proj/data/old_data/tags/tmp/anisa_metadata.pkl\r\n",
      "/home/jok120/ml/proj/data/old_data/tags/tmp/anisa.sabet_metadata.pkl\r\n",
      "/home/jok120/ml/proj/data/old_data/tags/tmp/annabarnettcooks_metadata.pkl\r\n",
      "/home/jok120/ml/proj/data/old_data/tags/tmp/artfuldesperado_metadata.pkl\r\n",
      "/home/jok120/ml/proj/data/old_data/tags/tmp/ashrod_metadata.pkl\r\n",
      "/home/jok120/ml/proj/data/old_data/tags/tmp/atasteofkoko_metadata.pkl\r\n",
      "/home/jok120/ml/proj/data/old_data/tags/tmp/becausegb_metadata.pkl\r\n",
      "/home/jok120/ml/proj/data/old_data/tags/tmp/blondieandrye_metadata.pkl\r\n",
      "/home/jok120/ml/proj/data/old_data/tags/tmp/brunchboys_metadata.pkl\r\n",
      "/home/jok120/ml/proj/data/old_data/tags/tmp/caitsplate_metadata.pkl\r\n",
      "/home/jok120/ml/proj/data/old_data/tags/tmp/candidsbyjo_metadata.pkl\r\n",
      "/home/jok120/ml/proj/data/old_data/tags/tmp/cannellevanille_metadata.pkl\r\n",
      "/home/jok120/ml/proj/data/old_data/tags/tmp/careynotcarrie_metadata.pkl\r\n",
      "/home/jok120/ml/proj/data/old_data/tags/tmp/cashewkitchen_metadata.pkl\r\n",
      "/home/jok120/ml/proj/data/old_data/tags/tmp/chefjacqueslamerde_metadata.pkl\r\n",
      "/home/jok120/ml/proj/data/old_data/tags/tmp/chekmarkeats_metadata.pkl\r\n",
      "/home/jok120/ml/proj/data/old_data/tags/tmp/choosingchia_metadata.pkl\r\n",
      "/home/jok120/ml/proj/data/old_data/tags/tmp/clerkenwellboyec1_metadata.pkl\r\n",
      "/home/jok120/ml/proj/data/old_data/tags/tmp/closetcooking_metadata.pkl\r\n",
      "/home/jok120/ml/proj/data/old_data/tags/tmp/cocktailsbykurtis_metadata.pkl\r\n",
      "/home/jok120/ml/proj/data/old_data/tags/tmp/cookrepublic_metadata.pkl\r\n",
      "/home/jok120/ml/proj/data/old_data/tags/tmp/cottagefarm_metadata.pkl\r\n",
      "/home/jok120/ml/proj/data/old_data/tags/tmp/csaffitz_metadata.pkl\r\n",
      "/home/jok120/ml/proj/data/old_data/tags/tmp/culinarybrodown_metadata.pkl\r\n",
      "/home/jok120/ml/proj/data/old_data/tags/tmp/dad_beets_metadata.pkl\r\n",
      "/home/jok120/ml/proj/data/old_data/tags/tmp/dametravelerfoodie_metadata.pkl\r\n",
      "/home/jok120/ml/proj/data/old_data/tags/tmp/damn_delicious_metadata.pkl\r\n",
      "/home/jok120/ml/proj/data/old_data/tags/tmp/dandoherty__metadata.pkl\r\n",
      "/home/jok120/ml/proj/data/old_data/tags/tmp/danella_chalmers_metadata.pkl\r\n",
      "/home/jok120/ml/proj/data/old_data/tags/tmp/data_metadata.pkl\r\n",
      "/home/jok120/ml/proj/data/old_data/tags/tmp/davehagerman_metadata.pkl\r\n",
      "/home/jok120/ml/proj/data/old_data/tags/tmp/deliciousaus_metadata.pkl\r\n",
      "/home/jok120/ml/proj/data/old_data/tags/tmp/deliciouslyella_metadata.pkl\r\n",
      "/home/jok120/ml/proj/data/old_data/tags/tmp/dennistheprescott_metadata.pkl\r\n",
      "/home/jok120/ml/proj/data/old_data/tags/tmp/discover.vi_metadata.pkl\r\n",
      "/home/jok120/ml/proj/data/old_data/tags/tmp/donna.hay_metadata.pkl\r\n",
      "/home/jok120/ml/proj/data/old_data/tags/tmp/drizzleanddip_metadata.pkl\r\n",
      "/home/jok120/ml/proj/data/old_data/tags/tmp/eatingnyc_metadata.pkl\r\n",
      "/home/jok120/ml/proj/data/old_data/tags/tmp/effifoods_metadata.pkl\r\n",
      "/home/jok120/ml/proj/data/old_data/tags/tmp/emikodavies_metadata.pkl\r\n",
      "/home/jok120/ml/proj/data/old_data/tags/tmp/em.peachy_metadata.pkl\r\n",
      "/home/jok120/ml/proj/data/old_data/tags/tmp/evansungnyc_metadata.pkl\r\n",
      "/home/jok120/ml/proj/data/old_data/tags/tmp/felicityspector_metadata.pkl\r\n",
      "/home/jok120/ml/proj/data/old_data/tags/tmp/fitmencook_metadata.pkl\r\n",
      "/home/jok120/ml/proj/data/old_data/tags/tmp/food52_metadata.pkl\r\n",
      "/home/jok120/ml/proj/data/old_data/tags/tmp/foodandwine_metadata.pkl\r\n",
      "/home/jok120/ml/proj/data/old_data/tags/tmp/foodbabyny_metadata.pkl\r\n",
      "/home/jok120/ml/proj/data/old_data/tags/tmp/food_feels_metadata.pkl\r\n",
      "/home/jok120/ml/proj/data/old_data/tags/tmp/foodiemagician_metadata.pkl\r\n",
      "/home/jok120/ml/proj/data/old_data/tags/tmp/_foodstories__metadata.pkl\r\n",
      "/home/jok120/ml/proj/data/old_data/tags/tmp/fooodeelicious_metadata.pkl\r\n",
      "/home/jok120/ml/proj/data/old_data/tags/tmp/foooodieee_metadata.pkl\r\n",
      "/home/jok120/ml/proj/data/old_data/tags/tmp/gatherandfeast_metadata.pkl\r\n",
      "/home/jok120/ml/proj/data/old_data/tags/tmp/gatton_michelle_metadata.pkl\r\n",
      "/home/jok120/ml/proj/data/old_data/tags/tmp/gennarocontaldo_metadata.pkl\r\n",
      "/home/jok120/ml/proj/data/old_data/tags/tmp/georgeats_metadata.pkl\r\n",
      "/home/jok120/ml/proj/data/old_data/tags/tmp/gimmesomeoven_metadata.pkl\r\n",
      "/home/jok120/ml/proj/data/old_data/tags/tmp/girleatworld_metadata.pkl\r\n",
      "/home/jok120/ml/proj/data/old_data/tags/tmp/grandbabycakes_metadata.pkl\r\n",
      "/home/jok120/ml/proj/data/old_data/tags/tmp/halfbakedharvest_metadata.pkl\r\n",
      "/home/jok120/ml/proj/data/old_data/tags/tmp/happyfoody_metadata.pkl\r\n",
      "/home/jok120/ml/proj/data/old_data/tags/tmp/helenedujardin_metadata.pkl\r\n",
      "/home/jok120/ml/proj/data/old_data/tags/tmp/howsweeteats_metadata.pkl\r\n",
      "/home/jok120/ml/proj/data/old_data/tags/tmp/hungrybetches_metadata.pkl\r\n",
      "/home/jok120/ml/proj/data/old_data/tags/tmp/idafrosk_metadata.pkl\r\n",
      "/home/jok120/ml/proj/data/old_data/tags/tmp/igbrunchclub_metadata.pkl\r\n",
      "/home/jok120/ml/proj/data/old_data/tags/tmp/inspiralized_metadata.pkl\r\n",
      "/home/jok120/ml/proj/data/old_data/tags/tmp/issycroker_metadata.pkl\r\n",
      "/home/jok120/ml/proj/data/old_data/tags/tmp/izyhossack_metadata.pkl\r\n",
      "/home/jok120/ml/proj/data/old_data/tags/tmp/jakecohen_metadata.pkl\r\n",
      "/home/jok120/ml/proj/data/old_data/tags/tmp/jakesfoodbible_metadata.pkl\r\n",
      "/home/jok120/ml/proj/data/old_data/tags/tmp/jamieoliver_metadata.pkl\r\n",
      "/home/jok120/ml/proj/data/old_data/tags/tmp/jo_rodgers_metadata.pkl\r\n",
      "/home/jok120/ml/proj/data/old_data/tags/tmp/joythebaker_metadata.pkl\r\n",
      "/home/jok120/ml/proj/data/old_data/tags/tmp/judy.kim_metadata.pkl\r\n",
      "/home/jok120/ml/proj/data/old_data/tags/tmp/judy_metadata.pkl\r\n",
      "/home/jok120/ml/proj/data/old_data/tags/tmp/julieskitchen_metadata.pkl\r\n",
      "/home/jok120/ml/proj/data/old_data/tags/tmp/julskitchen_metadata.pkl\r\n",
      "/home/jok120/ml/proj/data/old_data/tags/tmp/justinbsamson_metadata.pkl\r\n",
      "/home/jok120/ml/proj/data/old_data/tags/tmp/kaleandcaramel_metadata.pkl\r\n",
      "/home/jok120/ml/proj/data/old_data/tags/tmp/katie_clova_metadata.pkl\r\n",
      "/home/jok120/ml/proj/data/old_data/tags/tmp/kimberleyhasselbrink_metadata.pkl\r\n",
      "/home/jok120/ml/proj/data/old_data/tags/tmp/ks_ate_here_metadata.pkl\r\n",
      "/home/jok120/ml/proj/data/old_data/tags/tmp/ladyandpups_metadata.pkl\r\n",
      "/home/jok120/ml/proj/data/old_data/tags/tmp/laurentoyota_metadata.pkl\r\n",
      "/home/jok120/ml/proj/data/old_data/tags/tmp/leesamantha_metadata.pkl\r\n",
      "/home/jok120/ml/proj/data/old_data/tags/tmp/lifeandthyme_metadata.pkl\r\n",
      "/home/jok120/ml/proj/data/old_data/tags/tmp/linda_lomelino_metadata.pkl\r\n",
      "/home/jok120/ml/proj/data/old_data/tags/tmp/lindsaymaitland_metadata.pkl\r\n",
      "/home/jok120/ml/proj/data/old_data/tags/tmp/lisa.eats_metadata.pkl\r\n",
      "/home/jok120/ml/proj/data/old_data/tags/tmp/local_milk_metadata.pkl\r\n",
      "/home/jok120/ml/proj/data/old_data/tags/tmp/madeleine_shaw__metadata.pkl\r\n",
      "/home/jok120/ml/proj/data/old_data/tags/tmp/madzpayne_metadata.pkl\r\n",
      "/home/jok120/ml/proj/data/old_data/tags/tmp/maggie_beer_metadata.pkl\r\n",
      "/home/jok120/ml/proj/data/old_data/tags/tmp/marthastewart_metadata.pkl\r\n",
      "/home/jok120/ml/proj/data/old_data/tags/tmp/maurizio_metadata.pkl\r\n",
      "/home/jok120/ml/proj/data/old_data/tags/tmp/modernhoney_metadata.pkl\r\n",
      "/home/jok120/ml/proj/data/old_data/tags/tmp/mollyyeh_metadata.pkl\r\n",
      "/home/jok120/ml/proj/data/old_data/tags/tmp/muttipomodoroau_metadata.pkl\r\n",
      "/home/jok120/ml/proj/data/old_data/tags/tmp/nelrestaurant_metadata.pkl\r\n",
      "/home/jok120/ml/proj/data/old_data/tags/tmp/new_fork_city_metadata.pkl\r\n",
      "/home/jok120/ml/proj/data/old_data/tags/tmp/nourish_atelier_metadata.pkl\r\n",
      "/home/jok120/ml/proj/data/old_data/tags/tmp/ohhoneybakes_metadata.pkl\r\n",
      "/home/jok120/ml/proj/data/old_data/tags/tmp/organicandhappy_metadata.pkl\r\n",
      "/home/jok120/ml/proj/data/old_data/tags/tmp/ottolenghi_metadata.pkl\r\n",
      "/home/jok120/ml/proj/data/old_data/tags/tmp/peacelovedonutsnaplesfl_metadata.pkl\r\n",
      "/home/jok120/ml/proj/data/old_data/tags/tmp/pinchofyum_metadata.pkl\r\n",
      "/home/jok120/ml/proj/data/old_data/tags/tmp/plantbasedjane_metadata.pkl\r\n",
      "/home/jok120/ml/proj/data/old_data/tags/tmp/rachaelsgoodeats_metadata.pkl\r\n",
      "/home/jok120/ml/proj/data/old_data/tags/tmp/rachlmansfield_metadata.pkl\r\n",
      "/home/jok120/ml/proj/data/old_data/tags/tmp/rainbowplantlife_metadata.pkl\r\n",
      "/home/jok120/ml/proj/data/old_data/tags/tmp/raw_manda_metadata.pkl\r\n",
      "/home/jok120/ml/proj/data/old_data/tags/tmp/rawvana_metadata.pkl\r\n",
      "/home/jok120/ml/proj/data/old_data/tags/tmp/reneredzepinoma_metadata.pkl\r\n",
      "/home/jok120/ml/proj/data/old_data/tags/tmp/rushyama_metadata.pkl\r\n",
      "/home/jok120/ml/proj/data/old_data/tags/tmp/saladforpresident_metadata.pkl\r\n",
      "/home/jok120/ml/proj/data/old_data/tags/tmp/sammyandbellaofficial_metadata.pkl\r\n",
      "/home/jok120/ml/proj/data/old_data/tags/tmp/sarah_c_owens_metadata.pkl\r\n",
      "/home/jok120/ml/proj/data/old_data/tags/tmp/sarahlynnfitness_metadata.pkl\r\n",
      "/home/jok120/ml/proj/data/old_data/tags/tmp/shelbysorrel_metadata.pkl\r\n",
      "/home/jok120/ml/proj/data/old_data/tags/tmp/sherreenl_metadata.pkl\r\n",
      "/home/jok120/ml/proj/data/old_data/tags/tmp/shivesh17_metadata.pkl\r\n",
      "/home/jok120/ml/proj/data/old_data/tags/tmp/shutthekaleup_metadata.pkl\r\n",
      "/home/jok120/ml/proj/data/old_data/tags/tmp/signebay_metadata.pkl\r\n",
      "/home/jok120/ml/proj/data/old_data/tags/tmp/silverspies_metadata.pkl\r\n",
      "/home/jok120/ml/proj/data/old_data/tags/tmp/skyemcalpine_metadata.pkl\r\n",
      "/home/jok120/ml/proj/data/old_data/tags/tmp/smallmangalleypgh_metadata.pkl\r\n",
      "/home/jok120/ml/proj/data/old_data/tags/tmp/spoonforkbacon_metadata.pkl\r\n",
      "/home/jok120/ml/proj/data/old_data/tags/tmp/sproutedkitchen_metadata.pkl\r\n",
      "/home/jok120/ml/proj/data/old_data/tags/tmp/stevehansenimages_metadata.pkl\r\n",
      "/home/jok120/ml/proj/data/old_data/tags/tmp/succulentbite_metadata.pkl\r\n",
      "/home/jok120/ml/proj/data/old_data/tags/tmp/taraobrady_metadata.pkl\r\n",
      "/home/jok120/ml/proj/data/old_data/tags/tmp/thaliaho_metadata.pkl\r\n",
      "/home/jok120/ml/proj/data/old_data/tags/tmp/thebarefoothousewife_metadata.pkl\r\n",
      "/home/jok120/ml/proj/data/old_data/tags/tmp/theboywhobakes_metadata.pkl\r\n",
      "/home/jok120/ml/proj/data/old_data/tags/tmp/thecuriouspear_metadata.pkl\r\n",
      "/home/jok120/ml/proj/data/old_data/tags/tmp/thecutlerychronicles_metadata.pkl\r\n",
      "/home/jok120/ml/proj/data/old_data/tags/tmp/thedefineddish_metadata.pkl\r\n",
      "/home/jok120/ml/proj/data/old_data/tags/tmp/thefauxmartha_metadata.pkl\r\n",
      "/home/jok120/ml/proj/data/old_data/tags/tmp/thefeedfeed_metadata.pkl\r\n",
      "/home/jok120/ml/proj/data/old_data/tags/tmp/thehungrywarrior_metadata.pkl\r\n",
      "/home/jok120/ml/proj/data/old_data/tags/tmp/thejudylab_metadata.pkl\r\n",
      "/home/jok120/ml/proj/data/old_data/tags/tmp/thelittleplantation_metadata.pkl\r\n",
      "/home/jok120/ml/proj/data/old_data/tags/tmp/themodernproper_metadata.pkl\r\n",
      "/home/jok120/ml/proj/data/old_data/tags/tmp/thenaughtyfork_metadata.pkl\r\n",
      "/home/jok120/ml/proj/data/old_data/tags/tmp/therawboy_metadata.pkl\r\n",
      "/home/jok120/ml/proj/data/old_data/tags/tmp/thewholefooddiary_metadata.pkl\r\n",
      "/home/jok120/ml/proj/data/old_data/tags/tmp/twolovesstudio_metadata.pkl\r\n",
      "/home/jok120/ml/proj/data/old_data/tags/tmp/vegan.dy_metadata.pkl\r\n",
      "/home/jok120/ml/proj/data/old_data/tags/tmp/whatforbreakfast_metadata.pkl\r\n",
      "/home/jok120/ml/proj/data/old_data/tags/tmp/whatsgabycookin_metadata.pkl\r\n",
      "/home/jok120/ml/proj/data/old_data/tags/tmp/wrightkitchen_metadata.pkl\r\n",
      "/home/jok120/ml/proj/data/old_data/tags/tmp/xlbcr_metadata.pkl\r\n",
      "/home/jok120/ml/proj/data/old_data/tags/tmp/yossyarefi_metadata.pkl\r\n"
     ]
    }
   ],
   "source": [
    "!ls /home/jok120/ml/proj/data/old_data/tags/tmp/*.pkl"
   ]
  },
  {
   "cell_type": "code",
   "execution_count": 11,
   "metadata": {},
   "outputs": [
    {
     "name": "stdout",
     "output_type": "stream",
     "text": [
      "1 0\n",
      "20 18\n",
      "1873 1870\n",
      "1886 1882\n",
      "2050 2045\n",
      "2451 2445\n",
      "3052 3045\n",
      "3859 3851\n",
      "5558 5549\n"
     ]
    },
    {
     "ename": "KeyboardInterrupt",
     "evalue": "",
     "output_type": "error",
     "traceback": [
      "\u001b[0;31m---------------------------------------------------------------------------\u001b[0m",
      "\u001b[0;31mKeyboardInterrupt\u001b[0m                         Traceback (most recent call last)",
      "\u001b[0;32m<ipython-input-11-6f28566dec92>\u001b[0m in \u001b[0;36m<module>\u001b[0;34m\u001b[0m\n\u001b[1;32m     17\u001b[0m         \u001b[0;32mcontinue\u001b[0m\u001b[0;34m\u001b[0m\u001b[0;34m\u001b[0m\u001b[0m\n\u001b[1;32m     18\u001b[0m \u001b[0;34m\u001b[0m\u001b[0m\n\u001b[0;32m---> 19\u001b[0;31m     \u001b[0mX_train\u001b[0m \u001b[0;34m=\u001b[0m \u001b[0mtorch\u001b[0m\u001b[0;34m.\u001b[0m\u001b[0mcat\u001b[0m\u001b[0;34m(\u001b[0m\u001b[0;34m[\u001b[0m\u001b[0mX_train\u001b[0m\u001b[0;34m,\u001b[0m\u001b[0mtorch\u001b[0m\u001b[0;34m.\u001b[0m\u001b[0mload\u001b[0m\u001b[0;34m(\u001b[0m\u001b[0mos\u001b[0m\u001b[0;34m.\u001b[0m\u001b[0mpath\u001b[0m\u001b[0;34m.\u001b[0m\u001b[0mjoin\u001b[0m\u001b[0;34m(\u001b[0m\u001b[0mdfolder\u001b[0m\u001b[0;34m,\u001b[0m\u001b[0mf\u001b[0m\u001b[0;34m)\u001b[0m\u001b[0;34m)\u001b[0m\u001b[0;34m]\u001b[0m\u001b[0;34m)\u001b[0m\u001b[0;34m\u001b[0m\u001b[0;34m\u001b[0m\u001b[0m\n\u001b[0m\u001b[1;32m     20\u001b[0m     \u001b[0mX_meta\u001b[0m \u001b[0;34m+=\u001b[0m \u001b[0mpickle\u001b[0m\u001b[0;34m.\u001b[0m\u001b[0mload\u001b[0m\u001b[0;34m(\u001b[0m\u001b[0mopen\u001b[0m\u001b[0;34m(\u001b[0m\u001b[0mos\u001b[0m\u001b[0;34m.\u001b[0m\u001b[0mpath\u001b[0m\u001b[0;34m.\u001b[0m\u001b[0mjoin\u001b[0m\u001b[0;34m(\u001b[0m\u001b[0mdfolder\u001b[0m\u001b[0;34m,\u001b[0m\u001b[0mfname\u001b[0m\u001b[0;34m+\u001b[0m\u001b[0;34m'_metadata.pkl'\u001b[0m\u001b[0;34m)\u001b[0m\u001b[0;34m,\u001b[0m\u001b[0;34m'rb'\u001b[0m\u001b[0;34m)\u001b[0m\u001b[0;34m)\u001b[0m\u001b[0;34m\u001b[0m\u001b[0;34m\u001b[0m\u001b[0m\n\u001b[1;32m     21\u001b[0m     \u001b[0mprint\u001b[0m\u001b[0;34m(\u001b[0m\u001b[0mlen\u001b[0m\u001b[0;34m(\u001b[0m\u001b[0mX_train\u001b[0m\u001b[0;34m)\u001b[0m\u001b[0;34m,\u001b[0m\u001b[0mlen\u001b[0m\u001b[0;34m(\u001b[0m\u001b[0mX_meta\u001b[0m\u001b[0;34m)\u001b[0m\u001b[0;34m)\u001b[0m\u001b[0;34m\u001b[0m\u001b[0;34m\u001b[0m\u001b[0m\n",
      "\u001b[0;32m~/build/anaconda3/envs/pytorch_dlproj/lib/python3.7/site-packages/torch/serialization.py\u001b[0m in \u001b[0;36mload\u001b[0;34m(f, map_location, pickle_module)\u001b[0m\n\u001b[1;32m    366\u001b[0m         \u001b[0mf\u001b[0m \u001b[0;34m=\u001b[0m \u001b[0mopen\u001b[0m\u001b[0;34m(\u001b[0m\u001b[0mf\u001b[0m\u001b[0;34m,\u001b[0m \u001b[0;34m'rb'\u001b[0m\u001b[0;34m)\u001b[0m\u001b[0;34m\u001b[0m\u001b[0;34m\u001b[0m\u001b[0m\n\u001b[1;32m    367\u001b[0m     \u001b[0;32mtry\u001b[0m\u001b[0;34m:\u001b[0m\u001b[0;34m\u001b[0m\u001b[0;34m\u001b[0m\u001b[0m\n\u001b[0;32m--> 368\u001b[0;31m         \u001b[0;32mreturn\u001b[0m \u001b[0m_load\u001b[0m\u001b[0;34m(\u001b[0m\u001b[0mf\u001b[0m\u001b[0;34m,\u001b[0m \u001b[0mmap_location\u001b[0m\u001b[0;34m,\u001b[0m \u001b[0mpickle_module\u001b[0m\u001b[0;34m)\u001b[0m\u001b[0;34m\u001b[0m\u001b[0;34m\u001b[0m\u001b[0m\n\u001b[0m\u001b[1;32m    369\u001b[0m     \u001b[0;32mfinally\u001b[0m\u001b[0;34m:\u001b[0m\u001b[0;34m\u001b[0m\u001b[0;34m\u001b[0m\u001b[0m\n\u001b[1;32m    370\u001b[0m         \u001b[0;32mif\u001b[0m \u001b[0mnew_fd\u001b[0m\u001b[0;34m:\u001b[0m\u001b[0;34m\u001b[0m\u001b[0;34m\u001b[0m\u001b[0m\n",
      "\u001b[0;32m~/build/anaconda3/envs/pytorch_dlproj/lib/python3.7/site-packages/torch/serialization.py\u001b[0m in \u001b[0;36m_load\u001b[0;34m(f, map_location, pickle_module)\u001b[0m\n\u001b[1;32m    547\u001b[0m     \u001b[0;32mfor\u001b[0m \u001b[0mkey\u001b[0m \u001b[0;32min\u001b[0m \u001b[0mdeserialized_storage_keys\u001b[0m\u001b[0;34m:\u001b[0m\u001b[0;34m\u001b[0m\u001b[0;34m\u001b[0m\u001b[0m\n\u001b[1;32m    548\u001b[0m         \u001b[0;32massert\u001b[0m \u001b[0mkey\u001b[0m \u001b[0;32min\u001b[0m \u001b[0mdeserialized_objects\u001b[0m\u001b[0;34m\u001b[0m\u001b[0;34m\u001b[0m\u001b[0m\n\u001b[0;32m--> 549\u001b[0;31m         \u001b[0mdeserialized_objects\u001b[0m\u001b[0;34m[\u001b[0m\u001b[0mkey\u001b[0m\u001b[0;34m]\u001b[0m\u001b[0;34m.\u001b[0m\u001b[0m_set_from_file\u001b[0m\u001b[0;34m(\u001b[0m\u001b[0mf\u001b[0m\u001b[0;34m,\u001b[0m \u001b[0moffset\u001b[0m\u001b[0;34m,\u001b[0m \u001b[0mf_should_read_directly\u001b[0m\u001b[0;34m)\u001b[0m\u001b[0;34m\u001b[0m\u001b[0;34m\u001b[0m\u001b[0m\n\u001b[0m\u001b[1;32m    550\u001b[0m         \u001b[0moffset\u001b[0m \u001b[0;34m=\u001b[0m \u001b[0;32mNone\u001b[0m\u001b[0;34m\u001b[0m\u001b[0;34m\u001b[0m\u001b[0m\n\u001b[1;32m    551\u001b[0m \u001b[0;34m\u001b[0m\u001b[0m\n",
      "\u001b[0;31mKeyboardInterrupt\u001b[0m: "
     ]
    }
   ],
   "source": [
    "import os\n",
    "import torch\n",
    "import pickle\n",
    "\n",
    "dfolder = '/home/jok120/ml/proj/data/old_data/tags/tmp/'\n",
    "wfolder = '/home/jok120/ml/'\n",
    "\n",
    "X_train = torch.empty((0,3,xdim,ydim))\n",
    "X_meta = []\n",
    "\n",
    "N = 1\n",
    "\n",
    "for f in os.listdir(dfolder):\n",
    "    fname, fext = os.path.splitext(f)\n",
    "    \n",
    "    if fext != '.tch':\n",
    "        continue\n",
    "        \n",
    "    X_train = torch.cat([X_train,torch.load(os.path.join(dfolder,f))])\n",
    "    X_meta += pickle.load(open(os.path.join(dfolder,fname+'_metadata.pkl'),'rb'))\n",
    "    print(len(X_train),len(X_meta))\n",
    "    if len(X_train) > 100000:\n",
    "        torch.save(X_train,os.path.join(wfolder,'train_data_{}.tch'.format(N)))\n",
    "        pickle.dump(X_meta,open(os.path.join(wfolder,'train_meta_{}.pkl'.format(N)),'wb'))\n",
    "        \n",
    "        N += 1\n",
    "        \n",
    "        X_train = torch.empty((0,3,xdim,ydim))\n",
    "        X_meta = []\n",
    "        \n",
    "torch.save(X_train,os.path.join(wfolder,'train_data_{}.tch'.format(N)))\n",
    "pickle.dump(X_meta,open(os.path.join(wfolder,'train_meta_{}.pkl'.format(N)),'wb'))"
   ]
  },
  {
   "cell_type": "code",
   "execution_count": 1,
   "metadata": {},
   "outputs": [
    {
     "data": {
      "text/plain": [
       "torch.Size([8, 3, 64, 64])"
      ]
     },
     "execution_count": 1,
     "metadata": {},
     "output_type": "execute_result"
    }
   ],
   "source": [
    "import torch\n",
    "a = torch.empty((0,3,64,64))\n",
    "torch.cat([torch.ones(0,3,64,64),torch.ones(8,3,64,64)]).shape"
   ]
  },
  {
   "cell_type": "code",
   "execution_count": 24,
   "metadata": {},
   "outputs": [],
   "source": [
    "torch.save(images,os.path.join(dfolder,'data/#homecooking.tch'.format(folder)))\n",
    "pkl.dump(metadata,open(os.path.join(dfolder,'data/{}_metadata.pkl'.format(folder)),'wb'))"
   ]
  }
 ],
 "metadata": {
  "kernelspec": {
   "display_name": "Python (pytorch_dlproj)",
   "language": "python",
   "name": "pytorch_dlproj"
  },
  "language_info": {
   "codemirror_mode": {
    "name": "ipython",
    "version": 3
   },
   "file_extension": ".py",
   "mimetype": "text/x-python",
   "name": "python",
   "nbconvert_exporter": "python",
   "pygments_lexer": "ipython3",
   "version": "3.7.3"
  }
 },
 "nbformat": 4,
 "nbformat_minor": 2
}
